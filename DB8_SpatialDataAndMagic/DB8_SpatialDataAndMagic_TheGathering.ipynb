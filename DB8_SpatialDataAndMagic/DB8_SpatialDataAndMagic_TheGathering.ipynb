{
 "cells": [
  {
   "cell_type": "code",
   "execution_count": 2,
   "metadata": {},
   "outputs": [
    {
     "name": "stdout",
     "output_type": "stream",
     "text": [
      "The sql extension is already loaded. To reload it, use:\n",
      "  %reload_ext sql\n"
     ]
    }
   ],
   "source": [
    "%load_ext sql"
   ]
  },
  {
   "cell_type": "code",
   "execution_count": 3,
   "metadata": {},
   "outputs": [
    {
     "data": {
      "text/plain": [
       "'Connected: appdev@appdev'"
      ]
     },
     "execution_count": 3,
     "metadata": {},
     "output_type": "execute_result"
    }
   ],
   "source": [
    "%sql postgresql://appdev@data:5432/appdev"
   ]
  },
  {
   "cell_type": "code",
   "execution_count": 216,
   "metadata": {
    "scrolled": true
   },
   "outputs": [
    {
     "name": "stdout",
     "output_type": "stream",
     "text": [
      "1 rows affected.\n"
     ]
    },
    {
     "data": {
      "text/html": [
       "<table>\n",
       "    <tr>\n",
       "        <th>geonameid</th>\n",
       "        <th>name</th>\n",
       "        <th>longitude</th>\n",
       "        <th>latitude</th>\n",
       "        <th>feature_class</th>\n",
       "        <th>feature_code</th>\n",
       "        <th>country_code</th>\n",
       "        <th>admin1_code</th>\n",
       "        <th>admin2_code</th>\n",
       "        <th>population</th>\n",
       "        <th>elevation</th>\n",
       "        <th>timezone</th>\n",
       "    </tr>\n",
       "    <tr>\n",
       "        <td>3038871</td>\n",
       "        <td>Obac de la Vall</td>\n",
       "        <td>1.50498</td>\n",
       "        <td>42.46602</td>\n",
       "        <td>T</td>\n",
       "        <td>SLP</td>\n",
       "        <td>AD</td>\n",
       "        <td>06</td>\n",
       "        <td>None</td>\n",
       "        <td>0</td>\n",
       "        <td>None</td>\n",
       "        <td>Europe/Andorra</td>\n",
       "    </tr>\n",
       "</table>"
      ],
      "text/plain": [
       "[(3038871, 'Obac de la Vall', 1.50498, 42.46602, 'T', 'SLP', 'AD', '06', None, 0, None, 'Europe/Andorra')]"
      ]
     },
     "execution_count": 216,
     "metadata": {},
     "output_type": "execute_result"
    }
   ],
   "source": [
    "%sql SELECT * from geonames LIMIT 1;"
   ]
  },
  {
   "cell_type": "markdown",
   "metadata": {},
   "source": [
    "1. > A. Find the tuple with the largest population"
   ]
  },
  {
   "cell_type": "code",
   "execution_count": 14,
   "metadata": {
    "scrolled": true
   },
   "outputs": [
    {
     "name": "stdout",
     "output_type": "stream",
     "text": [
      "1 rows affected.\n"
     ]
    },
    {
     "data": {
      "text/html": [
       "<table>\n",
       "    <tr>\n",
       "        <th>geonameid</th>\n",
       "        <th>name</th>\n",
       "        <th>longitude</th>\n",
       "        <th>latitude</th>\n",
       "        <th>feature_class</th>\n",
       "        <th>feature_code</th>\n",
       "        <th>country_code</th>\n",
       "        <th>admin1_code</th>\n",
       "        <th>admin2_code</th>\n",
       "        <th>population</th>\n",
       "        <th>elevation</th>\n",
       "        <th>timezone</th>\n",
       "    </tr>\n",
       "    <tr>\n",
       "        <td>305104</td>\n",
       "        <td>Levant</td>\n",
       "        <td>36.0</td>\n",
       "        <td>34.0</td>\n",
       "        <td>L</td>\n",
       "        <td>RGN</td>\n",
       "        <td>None</td>\n",
       "        <td>None</td>\n",
       "        <td>None</td>\n",
       "        <td>44990000</td>\n",
       "        <td>None</td>\n",
       "        <td>Asia/Beirut</td>\n",
       "    </tr>\n",
       "</table>"
      ],
      "text/plain": [
       "[(305104, 'Levant', 36.0, 34.0, 'L', 'RGN', None, None, None, 44990000, None, 'Asia/Beirut')]"
      ]
     },
     "execution_count": 14,
     "metadata": {},
     "output_type": "execute_result"
    }
   ],
   "source": [
    "%sql SELECT * from geonames WHERE population in (SELECT MAX(population) from geonames);"
   ]
  },
  {
   "cell_type": "markdown",
   "metadata": {},
   "source": [
    "> B. Now calculate the distance from all locations to the tuple above using the <-> function"
   ]
  },
  {
   "cell_type": "code",
   "execution_count": 15,
   "metadata": {},
   "outputs": [
    {
     "name": "stdout",
     "output_type": "stream",
     "text": [
      "Done.\n"
     ]
    },
    {
     "data": {
      "text/plain": [
       "[]"
      ]
     },
     "execution_count": 15,
     "metadata": {},
     "output_type": "execute_result"
    }
   ],
   "source": [
    "%%sql\n",
    "CREATE VIEW max_pop as\n",
    "SELECT * from geonames WHERE population in (SELECT MAX(population) from geonames);"
   ]
  },
  {
   "cell_type": "code",
   "execution_count": 46,
   "metadata": {},
   "outputs": [
    {
     "name": "stdout",
     "output_type": "stream",
     "text": [
      "10 rows affected.\n"
     ]
    },
    {
     "data": {
      "text/html": [
       "<table>\n",
       "    <tr>\n",
       "        <th>from</th>\n",
       "        <th>to</th>\n",
       "        <th>distance</th>\n",
       "    </tr>\n",
       "    <tr>\n",
       "        <td>Levant</td>\n",
       "        <td>Obac de la Vall</td>\n",
       "        <td>35.5187260391022</td>\n",
       "    </tr>\n",
       "    <tr>\n",
       "        <td>Levant</td>\n",
       "        <td>Canal del Teixó</td>\n",
       "        <td>35.5403912827645</td>\n",
       "    </tr>\n",
       "    <tr>\n",
       "        <td>Levant</td>\n",
       "        <td>Solana del Soriguer</td>\n",
       "        <td>35.4976906065648</td>\n",
       "    </tr>\n",
       "    <tr>\n",
       "        <td>Levant</td>\n",
       "        <td>Bosc de Sant Romà</td>\n",
       "        <td>35.5211340049413</td>\n",
       "    </tr>\n",
       "    <tr>\n",
       "        <td>Levant</td>\n",
       "        <td>Sant Esteve</td>\n",
       "        <td>35.5230848613757</td>\n",
       "    </tr>\n",
       "    <tr>\n",
       "        <td>Levant</td>\n",
       "        <td>Canal de Rudielles</td>\n",
       "        <td>35.5756544866359</td>\n",
       "    </tr>\n",
       "    <tr>\n",
       "        <td>Levant</td>\n",
       "        <td>Estany Rodó</td>\n",
       "        <td>35.3803392045427</td>\n",
       "    </tr>\n",
       "    <tr>\n",
       "        <td>Levant</td>\n",
       "        <td>Torrent de Ribassols</td>\n",
       "        <td>35.5686877257961</td>\n",
       "    </tr>\n",
       "    <tr>\n",
       "        <td>Levant</td>\n",
       "        <td>Serra Plana</td>\n",
       "        <td>35.4524960679527</td>\n",
       "    </tr>\n",
       "    <tr>\n",
       "        <td>Levant</td>\n",
       "        <td>Coll de la Plana</td>\n",
       "        <td>35.5086914894509</td>\n",
       "    </tr>\n",
       "</table>"
      ],
      "text/plain": [
       "[('Levant', 'Obac de la Vall', 35.5187260391022),\n",
       " ('Levant', 'Canal del Teixó', 35.5403912827645),\n",
       " ('Levant', 'Solana del Soriguer', 35.4976906065648),\n",
       " ('Levant', 'Bosc de Sant Romà', 35.5211340049413),\n",
       " ('Levant', 'Sant Esteve', 35.5230848613757),\n",
       " ('Levant', 'Canal de Rudielles', 35.5756544866359),\n",
       " ('Levant', 'Estany Rodó', 35.3803392045427),\n",
       " ('Levant', 'Torrent de Ribassols', 35.5686877257961),\n",
       " ('Levant', 'Serra Plana', 35.4524960679527),\n",
       " ('Levant', 'Coll de la Plana', 35.5086914894509)]"
      ]
     },
     "execution_count": 46,
     "metadata": {},
     "output_type": "execute_result"
    }
   ],
   "source": [
    "%%sql \n",
    "SELECT max_pop.name as \"from\", geonames.name as \"to\",  \n",
    "point(max_pop.latitude, max_pop.longitude)\n",
    "<->\n",
    "point(geonames.latitude, geonames.longitude) \n",
    "as \"distance\"\n",
    "from geonames, max_pop LIMIT 10;"
   ]
  },
  {
   "cell_type": "markdown",
   "metadata": {},
   "source": [
    "> C. Now calculate the distance from all locations to the tuple above using the haversine distance"
   ]
  },
  {
   "cell_type": "code",
   "execution_count": 47,
   "metadata": {},
   "outputs": [
    {
     "name": "stdout",
     "output_type": "stream",
     "text": [
      "Done.\n"
     ]
    },
    {
     "data": {
      "text/plain": [
       "[]"
      ]
     },
     "execution_count": 47,
     "metadata": {},
     "output_type": "execute_result"
    }
   ],
   "source": [
    "%%sql \n",
    "CREATE OR REPLACE FUNCTION public.geodistance(alat double precision, alng double precision, blat double precision, blng double precision)\n",
    "  RETURNS double precision AS\n",
    "$BODY$\n",
    "SELECT asin(\n",
    "  sqrt(\n",
    "    sin(radians($3-$1)/2)^2 +\n",
    "    sin(radians($4-$2)/2)^2 *\n",
    "    cos(radians($1)) *\n",
    "    cos(radians($3))\n",
    "  )\n",
    ") * 7926.3352 AS distance;\n",
    "$BODY$\n",
    "  LANGUAGE sql IMMUTABLE\n",
    "COST 100;"
   ]
  },
  {
   "cell_type": "code",
   "execution_count": 52,
   "metadata": {},
   "outputs": [
    {
     "name": "stdout",
     "output_type": "stream",
     "text": [
      "10 rows affected.\n"
     ]
    },
    {
     "data": {
      "text/html": [
       "<table>\n",
       "    <tr>\n",
       "        <th>from</th>\n",
       "        <th>to</th>\n",
       "        <th>haversine distance</th>\n",
       "    </tr>\n",
       "    <tr>\n",
       "        <td>Levant</td>\n",
       "        <td>Obac de la Vall</td>\n",
       "        <td>1948.31948131202</td>\n",
       "    </tr>\n",
       "    <tr>\n",
       "        <td>Levant</td>\n",
       "        <td>Canal del Teixó</td>\n",
       "        <td>1948.97544410187</td>\n",
       "    </tr>\n",
       "    <tr>\n",
       "        <td>Levant</td>\n",
       "        <td>Solana del Soriguer</td>\n",
       "        <td>1946.67835552112</td>\n",
       "    </tr>\n",
       "    <tr>\n",
       "        <td>Levant</td>\n",
       "        <td>Bosc de Sant Romà</td>\n",
       "        <td>1948.51401122396</td>\n",
       "    </tr>\n",
       "    <tr>\n",
       "        <td>Levant</td>\n",
       "        <td>Sant Esteve</td>\n",
       "        <td>1948.68370586011</td>\n",
       "    </tr>\n",
       "    <tr>\n",
       "        <td>Levant</td>\n",
       "        <td>Canal de Rudielles</td>\n",
       "        <td>1951.17402268074</td>\n",
       "    </tr>\n",
       "    <tr>\n",
       "        <td>Levant</td>\n",
       "        <td>Estany Rodó</td>\n",
       "        <td>1940.93606757186</td>\n",
       "    </tr>\n",
       "    <tr>\n",
       "        <td>Levant</td>\n",
       "        <td>Torrent de Ribassols</td>\n",
       "        <td>1950.34910315871</td>\n",
       "    </tr>\n",
       "    <tr>\n",
       "        <td>Levant</td>\n",
       "        <td>Serra Plana</td>\n",
       "        <td>1944.25406670841</td>\n",
       "    </tr>\n",
       "    <tr>\n",
       "        <td>Levant</td>\n",
       "        <td>Coll de la Plana</td>\n",
       "        <td>1947.84095795632</td>\n",
       "    </tr>\n",
       "</table>"
      ],
      "text/plain": [
       "[('Levant', 'Obac de la Vall', 1948.31948131202),\n",
       " ('Levant', 'Canal del Teixó', 1948.97544410187),\n",
       " ('Levant', 'Solana del Soriguer', 1946.67835552112),\n",
       " ('Levant', 'Bosc de Sant Romà', 1948.51401122396),\n",
       " ('Levant', 'Sant Esteve', 1948.68370586011),\n",
       " ('Levant', 'Canal de Rudielles', 1951.17402268074),\n",
       " ('Levant', 'Estany Rodó', 1940.93606757186),\n",
       " ('Levant', 'Torrent de Ribassols', 1950.34910315871),\n",
       " ('Levant', 'Serra Plana', 1944.25406670841),\n",
       " ('Levant', 'Coll de la Plana', 1947.84095795632)]"
      ]
     },
     "execution_count": 52,
     "metadata": {},
     "output_type": "execute_result"
    }
   ],
   "source": [
    "%%sql\n",
    "SELECT \n",
    "max_pop.name as \"from\", geonames.name as \"to\", \n",
    "public.geodistance(max_pop.latitude, max_pop.longitude, geonames.latitude, geonames.longitude) as \"haversine distance\"\n",
    "from geonames, max_pop LIMIT 10;"
   ]
  },
  {
   "cell_type": "markdown",
   "metadata": {},
   "source": [
    "> D. Plot the latitude and longitude of the largest 1000 populations on a 2-D scatter plot"
   ]
  },
  {
   "cell_type": "code",
   "execution_count": 80,
   "metadata": {},
   "outputs": [],
   "source": [
    "import pandas as pd\n",
    "df = pd.read_csv('http://www.stat.ubc.ca/~jenny/notOcto/STAT545A/examples/gapminder/data/gapminderDataFiveYear.txt', sep='\\t')"
   ]
  },
  {
   "cell_type": "code",
   "execution_count": 211,
   "metadata": {
    "scrolled": true
   },
   "outputs": [
    {
     "name": "stdout",
     "output_type": "stream",
     "text": [
      "1000 rows affected.\n"
     ]
    }
   ],
   "source": [
    "result = %sql SELECT latitude, longitude from geonames ORDER BY population DESC LIMIT 1000;"
   ]
  },
  {
   "cell_type": "code",
   "execution_count": 212,
   "metadata": {},
   "outputs": [],
   "source": [
    "df = pd.DataFrame(result, columns=['a', 'b'])"
   ]
  },
  {
   "cell_type": "code",
   "execution_count": 213,
   "metadata": {},
   "outputs": [
    {
     "data": {
      "image/png": "[encoded data removed]",
      "text/plain": [
       "<matplotlib.figure.Figure at 0x7fde1f6c6710>"
      ]
     },
     "metadata": {},
     "output_type": "display_data"
    }
   ],
   "source": [
    "df.plot.scatter(x='a', y='b');"
   ]
  },
  {
   "cell_type": "code",
   "execution_count": 120,
   "metadata": {},
   "outputs": [
    {
     "name": "stdout",
     "output_type": "stream",
     "text": [
      "1 rows affected.\n"
     ]
    },
    {
     "data": {
      "text/html": [
       "<table>\n",
       "    <tr>\n",
       "        <th>count</th>\n",
       "    </tr>\n",
       "    <tr>\n",
       "        <td>115071</td>\n",
       "    </tr>\n",
       "</table>"
      ],
      "text/plain": [
       "[(115071,)]"
      ]
     },
     "execution_count": 120,
     "metadata": {},
     "output_type": "execute_result"
    }
   ],
   "source": [
    "%sql SELECT COUNT(*) from geonames LIMIT 100;"
   ]
  },
  {
   "cell_type": "markdown",
   "metadata": {},
   "source": [
    "    2. A. Find all the cards that is made by Rob Alexander"
   ]
  },
  {
   "cell_type": "code",
   "execution_count": 126,
   "metadata": {
    "collapsed": true
   },
   "outputs": [
    {
     "name": "stdout",
     "output_type": "stream",
     "text": [
      "10 rows affected.\n"
     ]
    },
    {
     "data": {
      "text/html": [
       "<table>\n",
       "    <tr>\n",
       "        <th>set</th>\n",
       "        <th>data</th>\n",
       "    </tr>\n",
       "    <tr>\n",
       "        <td>10E</td>\n",
       "        <td>{&#x27;id&#x27;: &#x27;ab1ab474019e4e76c66e2b524d354cb7c3212616&#x27;, &#x27;cmc&#x27;: 7, &#x27;name&#x27;: &quot;Ancestor&#x27;s Chosen&quot;, &#x27;text&#x27;: &quot;First strike (This creature deals combat damage before creatures without first strike.)\\nWhen Ancestor&#x27;s Chosen enters the battlefield, you gain 1 life for each card in your graveyard.&quot;, &#x27;type&#x27;: &#x27;Creature — Human Cleric&#x27;, &#x27;power&#x27;: &#x27;4&#x27;, &#x27;types&#x27;: [&#x27;Creature&#x27;], &#x27;artist&#x27;: &#x27;Pete Venters&#x27;, &#x27;colors&#x27;: [&#x27;White&#x27;], &#x27;flavor&#x27;: &#x27;&quot;The will of all, by my hand done.&quot;&#x27;, &#x27;layout&#x27;: &#x27;normal&#x27;, &#x27;number&#x27;: &#x27;1&#x27;, &#x27;rarity&#x27;: &#x27;Uncommon&#x27;, &#x27;manaCost&#x27;: &#x27;{5}{W}{W}&#x27;, &#x27;subtypes&#x27;: [&#x27;Human&#x27;, &#x27;Cleric&#x27;], &#x27;imageName&#x27;: &quot;ancestor&#x27;s chosen&quot;, &#x27;mciNumber&#x27;: &#x27;1&#x27;, &#x27;toughness&#x27;: &#x27;4&#x27;, &#x27;multiverseid&#x27;: 130550, &#x27;colorIdentity&#x27;: [&#x27;W&#x27;]}</td>\n",
       "    </tr>\n",
       "    <tr>\n",
       "        <td>10E</td>\n",
       "        <td>{&#x27;id&#x27;: &#x27;0fb7efcdacb0ac4c73829aa08ddee55feeadb56f&#x27;, &#x27;cmc&#x27;: 5, &#x27;name&#x27;: &#x27;Angel of Mercy&#x27;, &#x27;text&#x27;: &#x27;Flying\\nWhen Angel of Mercy enters the battlefield, you gain 3 life.&#x27;, &#x27;type&#x27;: &#x27;Creature — Angel&#x27;, &#x27;power&#x27;: &#x27;3&#x27;, &#x27;types&#x27;: [&#x27;Creature&#x27;], &#x27;artist&#x27;: &#x27;Volkan Baga&#x27;, &#x27;colors&#x27;: [&#x27;White&#x27;], &#x27;flavor&#x27;: &#x27;Every tear shed is a drop of immortality.&#x27;, &#x27;layout&#x27;: &#x27;normal&#x27;, &#x27;number&#x27;: &#x27;2&#x27;, &#x27;rarity&#x27;: &#x27;Uncommon&#x27;, &#x27;manaCost&#x27;: &#x27;{4}{W}&#x27;, &#x27;subtypes&#x27;: [&#x27;Angel&#x27;], &#x27;imageName&#x27;: &#x27;angel of mercy&#x27;, &#x27;mciNumber&#x27;: &#x27;2&#x27;, &#x27;toughness&#x27;: &#x27;3&#x27;, &#x27;multiverseid&#x27;: 129465, &#x27;colorIdentity&#x27;: [&#x27;W&#x27;]}</td>\n",
       "    </tr>\n",
       "    <tr>\n",
       "        <td>10E</td>\n",
       "        <td>{&#x27;id&#x27;: &#x27;0b307d9f2d99b37aa659cf6708b7747d973b6107&#x27;, &#x27;cmc&#x27;: 3, &#x27;name&#x27;: &#x27;Angelic Blessing&#x27;, &#x27;text&#x27;: &quot;Target creature gets +3/+3 and gains flying until end of turn. (It can&#x27;t be blocked except by creatures with flying or reach.)&quot;, &#x27;type&#x27;: &#x27;Sorcery&#x27;, &#x27;types&#x27;: [&#x27;Sorcery&#x27;], &#x27;artist&#x27;: &#x27;Mark Zug&#x27;, &#x27;colors&#x27;: [&#x27;White&#x27;], &#x27;flavor&#x27;: &#x27;Only the warrior who can admit mortal weakness will be bolstered by immortal strength.&#x27;, &#x27;layout&#x27;: &#x27;normal&#x27;, &#x27;number&#x27;: &#x27;3&#x27;, &#x27;rarity&#x27;: &#x27;Common&#x27;, &#x27;manaCost&#x27;: &#x27;{2}{W}&#x27;, &#x27;imageName&#x27;: &#x27;angelic blessing&#x27;, &#x27;mciNumber&#x27;: &#x27;3&#x27;, &#x27;multiverseid&#x27;: 129711, &#x27;colorIdentity&#x27;: [&#x27;W&#x27;]}</td>\n",
       "    </tr>\n",
       "    <tr>\n",
       "        <td>10E</td>\n",
       "        <td>{&#x27;id&#x27;: &#x27;34b67f8cf8651964995bfec268498082710d4c6a&#x27;, &#x27;cmc&#x27;: 5, &#x27;name&#x27;: &#x27;Angelic Chorus&#x27;, &#x27;text&#x27;: &#x27;Whenever a creature enters the battlefield under your control, you gain life equal to its toughness.&#x27;, &#x27;type&#x27;: &#x27;Enchantment&#x27;, &#x27;types&#x27;: [&#x27;Enchantment&#x27;], &#x27;artist&#x27;: &#x27;Jim Murray&#x27;, &#x27;colors&#x27;: [&#x27;White&#x27;], &#x27;flavor&#x27;: &#x27;The harmony of the glorious is a dirge to the wicked.&#x27;, &#x27;layout&#x27;: &#x27;normal&#x27;, &#x27;number&#x27;: &#x27;4&#x27;, &#x27;rarity&#x27;: &#x27;Rare&#x27;, &#x27;manaCost&#x27;: &#x27;{3}{W}{W}&#x27;, &#x27;imageName&#x27;: &#x27;angelic chorus&#x27;, &#x27;mciNumber&#x27;: &#x27;4&#x27;, &#x27;multiverseid&#x27;: 129710, &#x27;colorIdentity&#x27;: [&#x27;W&#x27;]}</td>\n",
       "    </tr>\n",
       "    <tr>\n",
       "        <td>10E</td>\n",
       "        <td>{&#x27;id&#x27;: &#x27;bf37b84059fe240e735e7bef03996bd32869947e&#x27;, &#x27;cmc&#x27;: 2, &#x27;name&#x27;: &#x27;Angelic Wall&#x27;, &#x27;text&#x27;: &quot;Defender (This creature can&#x27;t attack.)\\nFlying&quot;, &#x27;type&#x27;: &#x27;Creature — Wall&#x27;, &#x27;power&#x27;: &#x27;0&#x27;, &#x27;types&#x27;: [&#x27;Creature&#x27;], &#x27;artist&#x27;: &#x27;John Avon&#x27;, &#x27;colors&#x27;: [&#x27;White&#x27;], &#x27;flavor&#x27;: &#x27;&quot;The Ancestor protects us in ways we can\\&#x27;t begin to comprehend.&quot;\\n—Mystic elder&#x27;, &#x27;layout&#x27;: &#x27;normal&#x27;, &#x27;number&#x27;: &#x27;5&#x27;, &#x27;rarity&#x27;: &#x27;Common&#x27;, &#x27;manaCost&#x27;: &#x27;{1}{W}&#x27;, &#x27;subtypes&#x27;: [&#x27;Wall&#x27;], &#x27;imageName&#x27;: &#x27;angelic wall&#x27;, &#x27;mciNumber&#x27;: &#x27;5&#x27;, &#x27;toughness&#x27;: &#x27;4&#x27;, &#x27;multiverseid&#x27;: 129671, &#x27;colorIdentity&#x27;: [&#x27;W&#x27;]}</td>\n",
       "    </tr>\n",
       "    <tr>\n",
       "        <td>10E</td>\n",
       "        <td>{&#x27;id&#x27;: &#x27;28cf1fc88c72512df98530439d45d64f441546b5&#x27;, &#x27;cmc&#x27;: 3, &#x27;name&#x27;: &#x27;Aura of Silence&#x27;, &#x27;text&#x27;: &#x27;Artifact and enchantment spells your opponents cast cost {2} more to cast.\\nSacrifice Aura of Silence: Destroy target artifact or enchantment.&#x27;, &#x27;type&#x27;: &#x27;Enchantment&#x27;, &#x27;types&#x27;: [&#x27;Enchantment&#x27;], &#x27;artist&#x27;: &#x27;D. Alexander Gregory&#x27;, &#x27;colors&#x27;: [&#x27;White&#x27;], &#x27;flavor&#x27;: &#x27;Not all silences are easily broken.&#x27;, &#x27;layout&#x27;: &#x27;normal&#x27;, &#x27;number&#x27;: &#x27;6&#x27;, &#x27;rarity&#x27;: &#x27;Uncommon&#x27;, &#x27;manaCost&#x27;: &#x27;{1}{W}{W}&#x27;, &#x27;imageName&#x27;: &#x27;aura of silence&#x27;, &#x27;mciNumber&#x27;: &#x27;6&#x27;, &#x27;multiverseid&#x27;: 132127, &#x27;colorIdentity&#x27;: [&#x27;W&#x27;]}</td>\n",
       "    </tr>\n",
       "    <tr>\n",
       "        <td>10E</td>\n",
       "        <td>{&#x27;id&#x27;: &#x27;c192224e04e5e4a4b4c9b7e294e634c9f67e6d8a&#x27;, &#x27;cmc&#x27;: 4, &#x27;name&#x27;: &#x27;Aven Cloudchaser&#x27;, &#x27;text&#x27;: &quot;Flying (This creature can&#x27;t be blocked except by creatures with flying or reach.)\\nWhen Aven Cloudchaser enters the battlefield, destroy target enchantment.&quot;, &#x27;type&#x27;: &#x27;Creature — Bird Soldier&#x27;, &#x27;power&#x27;: &#x27;2&#x27;, &#x27;types&#x27;: [&#x27;Creature&#x27;], &#x27;artist&#x27;: &#x27;Justin Sweet&#x27;, &#x27;colors&#x27;: [&#x27;White&#x27;], &#x27;flavor&#x27;: &#x27;&quot;At the Reapportionment, Eagle begged to be human. The Ancestor granted half that prayer.&quot;\\n—Nomad myth&#x27;, &#x27;layout&#x27;: &#x27;normal&#x27;, &#x27;number&#x27;: &#x27;7&#x27;, &#x27;rarity&#x27;: &#x27;Common&#x27;, &#x27;manaCost&#x27;: &#x27;{3}{W}&#x27;, &#x27;subtypes&#x27;: [&#x27;Bird&#x27;, &#x27;Soldier&#x27;], &#x27;imageName&#x27;: &#x27;aven cloudchaser&#x27;, &#x27;mciNumber&#x27;: &#x27;7&#x27;, &#x27;toughness&#x27;: &#x27;2&#x27;, &#x27;multiverseid&#x27;: 129470, &#x27;colorIdentity&#x27;: [&#x27;W&#x27;]}</td>\n",
       "    </tr>\n",
       "    <tr>\n",
       "        <td>10E</td>\n",
       "        <td>{&#x27;id&#x27;: &#x27;d3488c0a916bd922856473155a8b49ec23fc2217&#x27;, &#x27;cmc&#x27;: 4, &#x27;name&#x27;: &#x27;Ballista Squad&#x27;, &#x27;text&#x27;: &#x27;{X}{W}, {T}: Ballista Squad deals X damage to target attacking or blocking creature.&#x27;, &#x27;type&#x27;: &#x27;Creature — Human Rebel&#x27;, &#x27;power&#x27;: &#x27;2&#x27;, &#x27;types&#x27;: [&#x27;Creature&#x27;], &#x27;artist&#x27;: &#x27;Matthew D. Wilson&#x27;, &#x27;colors&#x27;: [&#x27;White&#x27;], &#x27;flavor&#x27;: &#x27;The perfect antidote for a tightly packed formation.&#x27;, &#x27;layout&#x27;: &#x27;normal&#x27;, &#x27;number&#x27;: &#x27;8&#x27;, &#x27;rarity&#x27;: &#x27;Uncommon&#x27;, &#x27;manaCost&#x27;: &#x27;{3}{W}&#x27;, &#x27;subtypes&#x27;: [&#x27;Human&#x27;, &#x27;Rebel&#x27;], &#x27;imageName&#x27;: &#x27;ballista squad&#x27;, &#x27;mciNumber&#x27;: &#x27;8&#x27;, &#x27;toughness&#x27;: &#x27;2&#x27;, &#x27;multiverseid&#x27;: 129477, &#x27;colorIdentity&#x27;: [&#x27;W&#x27;]}</td>\n",
       "    </tr>\n",
       "    <tr>\n",
       "        <td>10E</td>\n",
       "        <td>{&#x27;id&#x27;: &#x27;2ddd954180f6d0a14ea0724175f6d043b854a1d8&#x27;, &#x27;cmc&#x27;: 1, &#x27;name&#x27;: &#x27;Bandage&#x27;, &#x27;text&#x27;: &#x27;Prevent the next 1 damage that would be dealt to target creature or player this turn.\\nDraw a card.&#x27;, &#x27;type&#x27;: &#x27;Instant&#x27;, &#x27;types&#x27;: [&#x27;Instant&#x27;], &#x27;artist&#x27;: &#x27;Rebecca Guay&#x27;, &#x27;colors&#x27;: [&#x27;White&#x27;], &#x27;flavor&#x27;: &#x27;Life is measured in inches. To a healer, every one of those inches is precious.&#x27;, &#x27;layout&#x27;: &#x27;normal&#x27;, &#x27;number&#x27;: &#x27;9&#x27;, &#x27;rarity&#x27;: &#x27;Common&#x27;, &#x27;manaCost&#x27;: &#x27;{W}&#x27;, &#x27;imageName&#x27;: &#x27;bandage&#x27;, &#x27;mciNumber&#x27;: &#x27;9&#x27;, &#x27;multiverseid&#x27;: 132106, &#x27;colorIdentity&#x27;: [&#x27;W&#x27;]}</td>\n",
       "    </tr>\n",
       "    <tr>\n",
       "        <td>10E</td>\n",
       "        <td>{&#x27;id&#x27;: &#x27;4a7bf234af44e07d9a159d4d89e96ce320919917&#x27;, &#x27;cmc&#x27;: 6, &#x27;name&#x27;: &#x27;Beacon of Immortality&#x27;, &#x27;text&#x27;: &quot;Double target player&#x27;s life total. Shuffle Beacon of Immortality into its owner&#x27;s library.&quot;, &#x27;type&#x27;: &#x27;Instant&#x27;, &#x27;types&#x27;: [&#x27;Instant&#x27;], &#x27;artist&#x27;: &#x27;Rob Alexander&#x27;, &#x27;colors&#x27;: [&#x27;White&#x27;], &#x27;flavor&#x27;: &#x27;The cave floods with light. A thousand rays shine forth and meld into one.&#x27;, &#x27;layout&#x27;: &#x27;normal&#x27;, &#x27;number&#x27;: &#x27;10&#x27;, &#x27;rarity&#x27;: &#x27;Rare&#x27;, &#x27;manaCost&#x27;: &#x27;{5}{W}&#x27;, &#x27;imageName&#x27;: &#x27;beacon of immortality&#x27;, &#x27;mciNumber&#x27;: &#x27;10&#x27;, &#x27;multiverseid&#x27;: 130553, &#x27;colorIdentity&#x27;: [&#x27;W&#x27;]}</td>\n",
       "    </tr>\n",
       "</table>"
      ],
      "text/plain": [
       "[('10E', {'id': 'ab1ab474019e4e76c66e2b524d354cb7c3212616', 'cmc': 7, 'name': \"Ancestor's Chosen\", 'text': \"First strike (This creature deals combat damage bef ... (386 characters truncated) ... 'subtypes': ['Human', 'Cleric'], 'imageName': \"ancestor's chosen\", 'mciNumber': '1', 'toughness': '4', 'multiverseid': 130550, 'colorIdentity': ['W']}),\n",
       " ('10E', {'id': '0fb7efcdacb0ac4c73829aa08ddee55feeadb56f', 'cmc': 5, 'name': 'Angel of Mercy', 'text': 'Flying\\nWhen Angel of Mercy enters the battlefield, yo ... (249 characters truncated) ... ': '{4}{W}', 'subtypes': ['Angel'], 'imageName': 'angel of mercy', 'mciNumber': '2', 'toughness': '3', 'multiverseid': 129465, 'colorIdentity': ['W']}),\n",
       " ('10E', {'id': '0b307d9f2d99b37aa659cf6708b7747d973b6107', 'cmc': 3, 'name': 'Angelic Blessing', 'text': \"Target creature gets +3/+3 and gains flying until en ... (286 characters truncated) ... er': '3', 'rarity': 'Common', 'manaCost': '{2}{W}', 'imageName': 'angelic blessing', 'mciNumber': '3', 'multiverseid': 129711, 'colorIdentity': ['W']}),\n",
       " ('10E', {'id': '34b67f8cf8651964995bfec268498082710d4c6a', 'cmc': 5, 'name': 'Angelic Chorus', 'text': 'Whenever a creature enters the battlefield under your  ... (234 characters truncated) ... ber': '4', 'rarity': 'Rare', 'manaCost': '{3}{W}{W}', 'imageName': 'angelic chorus', 'mciNumber': '4', 'multiverseid': 129710, 'colorIdentity': ['W']}),\n",
       " ('10E', {'id': 'bf37b84059fe240e735e7bef03996bd32869947e', 'cmc': 2, 'name': 'Angelic Wall', 'text': \"Defender (This creature can't attack.)\\nFlying\", 'type': ... (256 characters truncated) ... ost': '{1}{W}', 'subtypes': ['Wall'], 'imageName': 'angelic wall', 'mciNumber': '5', 'toughness': '4', 'multiverseid': 129671, 'colorIdentity': ['W']}),\n",
       " ('10E', {'id': '28cf1fc88c72512df98530439d45d64f441546b5', 'cmc': 3, 'name': 'Aura of Silence', 'text': 'Artifact and enchantment spells your opponents cast c ... (274 characters truncated) ...  '6', 'rarity': 'Uncommon', 'manaCost': '{1}{W}{W}', 'imageName': 'aura of silence', 'mciNumber': '6', 'multiverseid': 132127, 'colorIdentity': ['W']}),\n",
       " ('10E', {'id': 'c192224e04e5e4a4b4c9b7e294e634c9f67e6d8a', 'cmc': 4, 'name': 'Aven Cloudchaser', 'text': \"Flying (This creature can't be blocked except by cre ... (419 characters truncated) ...  'subtypes': ['Bird', 'Soldier'], 'imageName': 'aven cloudchaser', 'mciNumber': '7', 'toughness': '2', 'multiverseid': 129470, 'colorIdentity': ['W']}),\n",
       " ('10E', {'id': 'd3488c0a916bd922856473155a8b49ec23fc2217', 'cmc': 4, 'name': 'Ballista Squad', 'text': '{X}{W}, {T}: Ballista Squad deals X damage to target a ... (297 characters truncated) ... }', 'subtypes': ['Human', 'Rebel'], 'imageName': 'ballista squad', 'mciNumber': '8', 'toughness': '2', 'multiverseid': 129477, 'colorIdentity': ['W']}),\n",
       " ('10E', {'id': '2ddd954180f6d0a14ea0724175f6d043b854a1d8', 'cmc': 1, 'name': 'Bandage', 'text': 'Prevent the next 1 damage that would be dealt to target creat ... (235 characters truncated) ... rmal', 'number': '9', 'rarity': 'Common', 'manaCost': '{W}', 'imageName': 'bandage', 'mciNumber': '9', 'multiverseid': 132106, 'colorIdentity': ['W']}),\n",
       " ('10E', {'id': '4a7bf234af44e07d9a159d4d89e96ce320919917', 'cmc': 6, 'name': 'Beacon of Immortality', 'text': \"Double target player's life total. Shuffle Beac ... (253 characters truncated) ... '10', 'rarity': 'Rare', 'manaCost': '{5}{W}', 'imageName': 'beacon of immortality', 'mciNumber': '10', 'multiverseid': 130553, 'colorIdentity': ['W']})]"
      ]
     },
     "execution_count": 126,
     "metadata": {},
     "output_type": "execute_result"
    }
   ],
   "source": [
    "%sql SELECT * from cards LIMIT 10;"
   ]
  },
  {
   "cell_type": "code",
   "execution_count": 128,
   "metadata": {},
   "outputs": [
    {
     "name": "stdout",
     "output_type": "stream",
     "text": [
      "10 rows affected.\n"
     ]
    },
    {
     "data": {
      "text/html": [
       "<table>\n",
       "    <tr>\n",
       "        <th>set</th>\n",
       "        <th>data</th>\n",
       "    </tr>\n",
       "    <tr>\n",
       "        <td>10E</td>\n",
       "        <td>{&#x27;id&#x27;: &#x27;4a7bf234af44e07d9a159d4d89e96ce320919917&#x27;, &#x27;cmc&#x27;: 6, &#x27;name&#x27;: &#x27;Beacon of Immortality&#x27;, &#x27;text&#x27;: &quot;Double target player&#x27;s life total. Shuffle Beacon of Immortality into its owner&#x27;s library.&quot;, &#x27;type&#x27;: &#x27;Instant&#x27;, &#x27;types&#x27;: [&#x27;Instant&#x27;], &#x27;artist&#x27;: &#x27;Rob Alexander&#x27;, &#x27;colors&#x27;: [&#x27;White&#x27;], &#x27;flavor&#x27;: &#x27;The cave floods with light. A thousand rays shine forth and meld into one.&#x27;, &#x27;layout&#x27;: &#x27;normal&#x27;, &#x27;number&#x27;: &#x27;10&#x27;, &#x27;rarity&#x27;: &#x27;Rare&#x27;, &#x27;manaCost&#x27;: &#x27;{5}{W}&#x27;, &#x27;imageName&#x27;: &#x27;beacon of immortality&#x27;, &#x27;mciNumber&#x27;: &#x27;10&#x27;, &#x27;multiverseid&#x27;: 130553, &#x27;colorIdentity&#x27;: [&#x27;W&#x27;]}</td>\n",
       "    </tr>\n",
       "    <tr>\n",
       "        <td>10E</td>\n",
       "        <td>{&#x27;id&#x27;: &#x27;9cea331c080c3bbc7987c6560f65e39e9d1ed34f&#x27;, &#x27;cmc&#x27;: 5, &#x27;name&#x27;: &#x27;Kavu Climber&#x27;, &#x27;text&#x27;: &#x27;When Kavu Climber enters the battlefield, draw a card.&#x27;, &#x27;type&#x27;: &#x27;Creature — Kavu&#x27;, &#x27;power&#x27;: &#x27;3&#x27;, &#x27;types&#x27;: [&#x27;Creature&#x27;], &#x27;artist&#x27;: &#x27;Rob Alexander&#x27;, &#x27;colors&#x27;: [&#x27;Green&#x27;], &#x27;flavor&#x27;: &#x27;&quot;There was a crack of branches, a rustle of leaves, then a tremendous roar. Our party had no chance as death descended from above.&quot;\\n—Taseen, elvish bard&#x27;, &#x27;layout&#x27;: &#x27;normal&#x27;, &#x27;number&#x27;: &#x27;273&#x27;, &#x27;rarity&#x27;: &#x27;Common&#x27;, &#x27;manaCost&#x27;: &#x27;{3}{G}{G}&#x27;, &#x27;subtypes&#x27;: [&#x27;Kavu&#x27;], &#x27;imageName&#x27;: &#x27;kavu climber&#x27;, &#x27;mciNumber&#x27;: &#x27;273&#x27;, &#x27;toughness&#x27;: &#x27;3&#x27;, &#x27;multiverseid&#x27;: 129511, &#x27;colorIdentity&#x27;: [&#x27;G&#x27;]}</td>\n",
       "    </tr>\n",
       "    <tr>\n",
       "        <td>10E</td>\n",
       "        <td>{&#x27;id&#x27;: &#x27;28cc7c79cca8939fd9661f7abfc6ca453715b75e&#x27;, &#x27;cmc&#x27;: 0, &#x27;name&#x27;: &#x27;Llanowar Wastes&#x27;, &#x27;text&#x27;: &#x27;{T}: Add {C} to your mana pool.\\n{T}: Add {B} or {G} to your mana pool. Llanowar Wastes deals 1 damage to you.&#x27;, &#x27;type&#x27;: &#x27;Land&#x27;, &#x27;types&#x27;: [&#x27;Land&#x27;], &#x27;artist&#x27;: &#x27;Rob Alexander&#x27;, &#x27;layout&#x27;: &#x27;normal&#x27;, &#x27;number&#x27;: &#x27;355&#x27;, &#x27;rarity&#x27;: &#x27;Rare&#x27;, &#x27;imageName&#x27;: &#x27;llanowar wastes&#x27;, &#x27;mciNumber&#x27;: &#x27;355&#x27;, &#x27;multiverseid&#x27;: 129627, &#x27;colorIdentity&#x27;: [&#x27;B&#x27;, &#x27;G&#x27;]}</td>\n",
       "    </tr>\n",
       "    <tr>\n",
       "        <td>10E</td>\n",
       "        <td>{&#x27;id&#x27;: &#x27;7a90b7ba6197f8774ed99ecf75ac9abb3e0c0f20&#x27;, &#x27;cmc&#x27;: 0, &#x27;name&#x27;: &#x27;Shivan Reef&#x27;, &#x27;text&#x27;: &#x27;{T}: Add {C} to your mana pool.\\n{T}: Add {U} or {R} to your mana pool. Shivan Reef deals 1 damage to you.&#x27;, &#x27;type&#x27;: &#x27;Land&#x27;, &#x27;types&#x27;: [&#x27;Land&#x27;], &#x27;artist&#x27;: &#x27;Rob Alexander&#x27;, &#x27;layout&#x27;: &#x27;normal&#x27;, &#x27;number&#x27;: &#x27;357&#x27;, &#x27;rarity&#x27;: &#x27;Rare&#x27;, &#x27;imageName&#x27;: &#x27;shivan reef&#x27;, &#x27;mciNumber&#x27;: &#x27;357&#x27;, &#x27;multiverseid&#x27;: 129731, &#x27;colorIdentity&#x27;: [&#x27;U&#x27;, &#x27;R&#x27;]}</td>\n",
       "    </tr>\n",
       "    <tr>\n",
       "        <td>10E</td>\n",
       "        <td>{&#x27;id&#x27;: &#x27;8d1035f151615c949d0645b70fe01d8ab4a3f796&#x27;, &#x27;cmc&#x27;: 0, &#x27;name&#x27;: &#x27;Sulfurous Springs&#x27;, &#x27;text&#x27;: &#x27;{T}: Add {C} to your mana pool.\\n{T}: Add {B} or {R} to your mana pool. Sulfurous Springs deals 1 damage to you.&#x27;, &#x27;type&#x27;: &#x27;Land&#x27;, &#x27;types&#x27;: [&#x27;Land&#x27;], &#x27;artist&#x27;: &#x27;Rob Alexander&#x27;, &#x27;layout&#x27;: &#x27;normal&#x27;, &#x27;number&#x27;: &#x27;359&#x27;, &#x27;rarity&#x27;: &#x27;Rare&#x27;, &#x27;imageName&#x27;: &#x27;sulfurous springs&#x27;, &#x27;mciNumber&#x27;: &#x27;359&#x27;, &#x27;multiverseid&#x27;: 129751, &#x27;colorIdentity&#x27;: [&#x27;B&#x27;, &#x27;R&#x27;]}</td>\n",
       "    </tr>\n",
       "    <tr>\n",
       "        <td>10E</td>\n",
       "        <td>{&#x27;id&#x27;: &#x27;c97103ab834aad9b3fb7d07c4fb563089f97fe87&#x27;, &#x27;cmc&#x27;: 0, &#x27;name&#x27;: &#x27;Treetop Village&#x27;, &#x27;text&#x27;: &quot;Treetop Village enters the battlefield tapped.\\n{T}: Add {G} to your mana pool.\\n{1}{G}: Treetop Village becomes a 3/3 green Ape creature with trample until end of turn. It&#x27;s still a land. (If it would assign enough damage to its blockers to destroy them, you may have it assign the rest of its damage to defending player or planeswalker.)&quot;, &#x27;type&#x27;: &#x27;Land&#x27;, &#x27;types&#x27;: [&#x27;Land&#x27;], &#x27;artist&#x27;: &#x27;Rob Alexander&#x27;, &#x27;layout&#x27;: &#x27;normal&#x27;, &#x27;number&#x27;: &#x27;361&#x27;, &#x27;rarity&#x27;: &#x27;Uncommon&#x27;, &#x27;imageName&#x27;: &#x27;treetop village&#x27;, &#x27;mciNumber&#x27;: &#x27;361&#x27;, &#x27;multiverseid&#x27;: 106455, &#x27;colorIdentity&#x27;: [&#x27;G&#x27;]}</td>\n",
       "    </tr>\n",
       "    <tr>\n",
       "        <td>10E</td>\n",
       "        <td>{&#x27;id&#x27;: &#x27;24a47bf9cb4596246501294e7127bf74e082bc1d&#x27;, &#x27;cmc&#x27;: 0, &#x27;name&#x27;: &#x27;Plains&#x27;, &#x27;type&#x27;: &#x27;Basic Land — Plains&#x27;, &#x27;types&#x27;: [&#x27;Land&#x27;], &#x27;artist&#x27;: &#x27;Rob Alexander&#x27;, &#x27;layout&#x27;: &#x27;normal&#x27;, &#x27;number&#x27;: &#x27;364&#x27;, &#x27;rarity&#x27;: &#x27;Basic Land&#x27;, &#x27;subtypes&#x27;: [&#x27;Plains&#x27;], &#x27;imageName&#x27;: &#x27;plains1&#x27;, &#x27;watermark&#x27;: &#x27;White&#x27;, &#x27;supertypes&#x27;: [&#x27;Basic&#x27;], &#x27;variations&#x27;: [129682, 129683, 129681], &#x27;multiverseid&#x27;: 129680, &#x27;colorIdentity&#x27;: [&#x27;W&#x27;]}</td>\n",
       "    </tr>\n",
       "    <tr>\n",
       "        <td>10E</td>\n",
       "        <td>{&#x27;id&#x27;: &#x27;be5e30798e4f8b9b6f6e6a8dd2e30bf86bb04b94&#x27;, &#x27;cmc&#x27;: 0, &#x27;name&#x27;: &#x27;Forest&#x27;, &#x27;type&#x27;: &#x27;Basic Land — Forest&#x27;, &#x27;types&#x27;: [&#x27;Land&#x27;], &#x27;artist&#x27;: &#x27;Rob Alexander&#x27;, &#x27;layout&#x27;: &#x27;normal&#x27;, &#x27;number&#x27;: &#x27;382&#x27;, &#x27;rarity&#x27;: &#x27;Basic Land&#x27;, &#x27;subtypes&#x27;: [&#x27;Forest&#x27;], &#x27;imageName&#x27;: &#x27;forest3&#x27;, &#x27;watermark&#x27;: &#x27;Green&#x27;, &#x27;supertypes&#x27;: [&#x27;Basic&#x27;], &#x27;variations&#x27;: [129559, 129562, 129560], &#x27;multiverseid&#x27;: 129561, &#x27;colorIdentity&#x27;: [&#x27;G&#x27;]}</td>\n",
       "    </tr>\n",
       "    <tr>\n",
       "        <td>2ED</td>\n",
       "        <td>{&#x27;id&#x27;: &#x27;4c3d9f2b7086021880c8268f9def8f7548116d17&#x27;, &#x27;cmc&#x27;: 0, &#x27;name&#x27;: &#x27;Badlands&#x27;, &#x27;text&#x27;: &#x27;({T}: Add {B} or {R} to your mana pool.)&#x27;, &#x27;type&#x27;: &#x27;Land — Swamp Mountain&#x27;, &#x27;types&#x27;: [&#x27;Land&#x27;], &#x27;artist&#x27;: &#x27;Rob Alexander&#x27;, &#x27;layout&#x27;: &#x27;normal&#x27;, &#x27;rarity&#x27;: &#x27;Rare&#x27;, &#x27;reserved&#x27;: True, &#x27;subtypes&#x27;: [&#x27;Swamp&#x27;, &#x27;Mountain&#x27;], &#x27;imageName&#x27;: &#x27;badlands&#x27;, &#x27;mciNumber&#x27;: &#x27;278&#x27;, &#x27;multiverseid&#x27;: 878, &#x27;colorIdentity&#x27;: [&#x27;B&#x27;, &#x27;R&#x27;]}</td>\n",
       "    </tr>\n",
       "    <tr>\n",
       "        <td>2ED</td>\n",
       "        <td>{&#x27;id&#x27;: &#x27;3ad1eecb97909f6d45763cc87c07fa23cf574cf7&#x27;, &#x27;cmc&#x27;: 1, &#x27;name&#x27;: &#x27;Lance&#x27;, &#x27;text&#x27;: &#x27;Enchant creature\\nEnchanted creature has first strike.&#x27;, &#x27;type&#x27;: &#x27;Enchantment — Aura&#x27;, &#x27;types&#x27;: [&#x27;Enchantment&#x27;], &#x27;artist&#x27;: &#x27;Rob Alexander&#x27;, &#x27;colors&#x27;: [&#x27;White&#x27;], &#x27;layout&#x27;: &#x27;normal&#x27;, &#x27;rarity&#x27;: &#x27;Uncommon&#x27;, &#x27;manaCost&#x27;: &#x27;{W}&#x27;, &#x27;subtypes&#x27;: [&#x27;Aura&#x27;], &#x27;imageName&#x27;: &#x27;lance&#x27;, &#x27;mciNumber&#x27;: &#x27;212&#x27;, &#x27;multiverseid&#x27;: 856, &#x27;colorIdentity&#x27;: [&#x27;W&#x27;]}</td>\n",
       "    </tr>\n",
       "</table>"
      ],
      "text/plain": [
       "[('10E', {'id': '4a7bf234af44e07d9a159d4d89e96ce320919917', 'cmc': 6, 'name': 'Beacon of Immortality', 'text': \"Double target player's life total. Shuffle Beac ... (253 characters truncated) ... '10', 'rarity': 'Rare', 'manaCost': '{5}{W}', 'imageName': 'beacon of immortality', 'mciNumber': '10', 'multiverseid': 130553, 'colorIdentity': ['W']}),\n",
       " ('10E', {'id': '9cea331c080c3bbc7987c6560f65e39e9d1ed34f', 'cmc': 5, 'name': 'Kavu Climber', 'text': 'When Kavu Climber enters the battlefield, draw a card.', ... (348 characters truncated) ...  '{3}{G}{G}', 'subtypes': ['Kavu'], 'imageName': 'kavu climber', 'mciNumber': '273', 'toughness': '3', 'multiverseid': 129511, 'colorIdentity': ['G']}),\n",
       " ('10E', {'id': '28cc7c79cca8939fd9661f7abfc6ca453715b75e', 'cmc': 0, 'name': 'Llanowar Wastes', 'text': '{T}: Add {C} to your mana pool.\\n{T}: Add {B} or {G}  ... (131 characters truncated) ...  'normal', 'number': '355', 'rarity': 'Rare', 'imageName': 'llanowar wastes', 'mciNumber': '355', 'multiverseid': 129627, 'colorIdentity': ['B', 'G']}),\n",
       " ('10E', {'id': '7a90b7ba6197f8774ed99ecf75ac9abb3e0c0f20', 'cmc': 0, 'name': 'Shivan Reef', 'text': '{T}: Add {C} to your mana pool.\\n{T}: Add {U} or {R} to y ... (119 characters truncated) ... ut': 'normal', 'number': '357', 'rarity': 'Rare', 'imageName': 'shivan reef', 'mciNumber': '357', 'multiverseid': 129731, 'colorIdentity': ['U', 'R']}),\n",
       " ('10E', {'id': '8d1035f151615c949d0645b70fe01d8ab4a3f796', 'cmc': 0, 'name': 'Sulfurous Springs', 'text': '{T}: Add {C} to your mana pool.\\n{T}: Add {B} or {R ... (137 characters truncated) ... normal', 'number': '359', 'rarity': 'Rare', 'imageName': 'sulfurous springs', 'mciNumber': '359', 'multiverseid': 129751, 'colorIdentity': ['B', 'R']}),\n",
       " ('10E', {'id': 'c97103ab834aad9b3fb7d07c4fb563089f97fe87', 'cmc': 0, 'name': 'Treetop Village', 'text': \"Treetop Village enters the battlefield tapped.\\n{T}:  ... (359 characters truncated) ... : 'normal', 'number': '361', 'rarity': 'Uncommon', 'imageName': 'treetop village', 'mciNumber': '361', 'multiverseid': 106455, 'colorIdentity': ['G']}),\n",
       " ('10E', {'id': '24a47bf9cb4596246501294e7127bf74e082bc1d', 'cmc': 0, 'name': 'Plains', 'type': 'Basic Land — Plains', 'types': ['Land'], 'artist': 'Rob Alexan ... (99 characters truncated) ... me': 'plains1', 'watermark': 'White', 'supertypes': ['Basic'], 'variations': [129682, 129683, 129681], 'multiverseid': 129680, 'colorIdentity': ['W']}),\n",
       " ('10E', {'id': 'be5e30798e4f8b9b6f6e6a8dd2e30bf86bb04b94', 'cmc': 0, 'name': 'Forest', 'type': 'Basic Land — Forest', 'types': ['Land'], 'artist': 'Rob Alexan ... (99 characters truncated) ... me': 'forest3', 'watermark': 'Green', 'supertypes': ['Basic'], 'variations': [129559, 129562, 129560], 'multiverseid': 129561, 'colorIdentity': ['G']}),\n",
       " ('2ED', {'id': '4c3d9f2b7086021880c8268f9def8f7548116d17', 'cmc': 0, 'name': 'Badlands', 'text': '({T}: Add {B} or {R} to your mana pool.)', 'type': 'Land — S ... (97 characters truncated) ... ', 'reserved': True, 'subtypes': ['Swamp', 'Mountain'], 'imageName': 'badlands', 'mciNumber': '278', 'multiverseid': 878, 'colorIdentity': ['B', 'R']}),\n",
       " ('2ED', {'id': '3ad1eecb97909f6d45763cc87c07fa23cf574cf7', 'cmc': 1, 'name': 'Lance', 'text': 'Enchant creature\\nEnchanted creature has first strike.', 'type' ... (117 characters truncated) ...  'rarity': 'Uncommon', 'manaCost': '{W}', 'subtypes': ['Aura'], 'imageName': 'lance', 'mciNumber': '212', 'multiverseid': 856, 'colorIdentity': ['W']})]"
      ]
     },
     "execution_count": 128,
     "metadata": {},
     "output_type": "execute_result"
    }
   ],
   "source": [
    "%sql SELECT * from cards WHERE data @> '{\"artist\": \"Rob Alexander\"}' LIMIT 10;"
   ]
  },
  {
   "cell_type": "code",
   "execution_count": 218,
   "metadata": {},
   "outputs": [
    {
     "name": "stdout",
     "output_type": "stream",
     "text": [
      "1 rows affected.\n"
     ]
    },
    {
     "data": {
      "text/html": [
       "<table>\n",
       "    <tr>\n",
       "        <th>count</th>\n",
       "    </tr>\n",
       "    <tr>\n",
       "        <td>401</td>\n",
       "    </tr>\n",
       "</table>"
      ],
      "text/plain": [
       "[(401,)]"
      ]
     },
     "execution_count": 218,
     "metadata": {},
     "output_type": "execute_result"
    }
   ],
   "source": [
    "%sql SELECT COUNT(*) from cards WHERE data @> '{\"artist\": \"Rob Alexander\"}';"
   ]
  },
  {
   "cell_type": "markdown",
   "metadata": {},
   "source": [
    "> B. Find all the cards that have the subtype \"Human\""
   ]
  },
  {
   "cell_type": "code",
   "execution_count": 134,
   "metadata": {},
   "outputs": [
    {
     "name": "stdout",
     "output_type": "stream",
     "text": [
      "1 rows affected.\n"
     ]
    },
    {
     "data": {
      "text/html": [
       "<table>\n",
       "    <tr>\n",
       "        <th>count</th>\n",
       "    </tr>\n",
       "    <tr>\n",
       "        <td>3192</td>\n",
       "    </tr>\n",
       "</table>"
      ],
      "text/plain": [
       "[(3192,)]"
      ]
     },
     "execution_count": 134,
     "metadata": {},
     "output_type": "execute_result"
    }
   ],
   "source": [
    "%sql SELECT COUNT(*) from cards WHERE data @> '{\"subtypes\":[\"Human\"]}' ;"
   ]
  },
  {
   "cell_type": "code",
   "execution_count": 138,
   "metadata": {},
   "outputs": [
    {
     "name": "stdout",
     "output_type": "stream",
     "text": [
      "10 rows affected.\n"
     ]
    },
    {
     "data": {
      "text/html": [
       "<table>\n",
       "    <tr>\n",
       "        <th>set</th>\n",
       "        <th>data</th>\n",
       "    </tr>\n",
       "    <tr>\n",
       "        <td>10E</td>\n",
       "        <td>{&#x27;id&#x27;: &#x27;ab1ab474019e4e76c66e2b524d354cb7c3212616&#x27;, &#x27;cmc&#x27;: 7, &#x27;name&#x27;: &quot;Ancestor&#x27;s Chosen&quot;, &#x27;text&#x27;: &quot;First strike (This creature deals combat damage before creatures without first strike.)\\nWhen Ancestor&#x27;s Chosen enters the battlefield, you gain 1 life for each card in your graveyard.&quot;, &#x27;type&#x27;: &#x27;Creature — Human Cleric&#x27;, &#x27;power&#x27;: &#x27;4&#x27;, &#x27;types&#x27;: [&#x27;Creature&#x27;], &#x27;artist&#x27;: &#x27;Pete Venters&#x27;, &#x27;colors&#x27;: [&#x27;White&#x27;], &#x27;flavor&#x27;: &#x27;&quot;The will of all, by my hand done.&quot;&#x27;, &#x27;layout&#x27;: &#x27;normal&#x27;, &#x27;number&#x27;: &#x27;1&#x27;, &#x27;rarity&#x27;: &#x27;Uncommon&#x27;, &#x27;manaCost&#x27;: &#x27;{5}{W}{W}&#x27;, &#x27;subtypes&#x27;: [&#x27;Human&#x27;, &#x27;Cleric&#x27;], &#x27;imageName&#x27;: &quot;ancestor&#x27;s chosen&quot;, &#x27;mciNumber&#x27;: &#x27;1&#x27;, &#x27;toughness&#x27;: &#x27;4&#x27;, &#x27;multiverseid&#x27;: 130550, &#x27;colorIdentity&#x27;: [&#x27;W&#x27;]}</td>\n",
       "    </tr>\n",
       "    <tr>\n",
       "        <td>10E</td>\n",
       "        <td>{&#x27;id&#x27;: &#x27;d3488c0a916bd922856473155a8b49ec23fc2217&#x27;, &#x27;cmc&#x27;: 4, &#x27;name&#x27;: &#x27;Ballista Squad&#x27;, &#x27;text&#x27;: &#x27;{X}{W}, {T}: Ballista Squad deals X damage to target attacking or blocking creature.&#x27;, &#x27;type&#x27;: &#x27;Creature — Human Rebel&#x27;, &#x27;power&#x27;: &#x27;2&#x27;, &#x27;types&#x27;: [&#x27;Creature&#x27;], &#x27;artist&#x27;: &#x27;Matthew D. Wilson&#x27;, &#x27;colors&#x27;: [&#x27;White&#x27;], &#x27;flavor&#x27;: &#x27;The perfect antidote for a tightly packed formation.&#x27;, &#x27;layout&#x27;: &#x27;normal&#x27;, &#x27;number&#x27;: &#x27;8&#x27;, &#x27;rarity&#x27;: &#x27;Uncommon&#x27;, &#x27;manaCost&#x27;: &#x27;{3}{W}&#x27;, &#x27;subtypes&#x27;: [&#x27;Human&#x27;, &#x27;Rebel&#x27;], &#x27;imageName&#x27;: &#x27;ballista squad&#x27;, &#x27;mciNumber&#x27;: &#x27;8&#x27;, &#x27;toughness&#x27;: &#x27;2&#x27;, &#x27;multiverseid&#x27;: 129477, &#x27;colorIdentity&#x27;: [&#x27;W&#x27;]}</td>\n",
       "    </tr>\n",
       "    <tr>\n",
       "        <td>10E</td>\n",
       "        <td>{&#x27;id&#x27;: &#x27;29c46fca29e5de01dba3bbf05393325bc9132735&#x27;, &#x27;cmc&#x27;: 3, &#x27;name&#x27;: &#x27;Benalish Knight&#x27;, &#x27;text&#x27;: &#x27;Flash (You may cast this spell any time you could cast an instant.)\\nFirst strike (This creature deals combat damage before creatures without first strike.)&#x27;, &#x27;type&#x27;: &#x27;Creature — Human Knight&#x27;, &#x27;power&#x27;: &#x27;2&#x27;, &#x27;types&#x27;: [&#x27;Creature&#x27;], &#x27;artist&#x27;: &#x27;Zoltan Boros &amp; Gabor Szikszai&#x27;, &#x27;colors&#x27;: [&#x27;White&#x27;], &#x27;flavor&#x27;: &#x27;&quot;We called them \\&#x27;armored lightning.\\&#x27;&quot;\\n—Gerrard of the Weatherlight&#x27;, &#x27;layout&#x27;: &#x27;normal&#x27;, &#x27;number&#x27;: &#x27;11&#x27;, &#x27;rarity&#x27;: &#x27;Common&#x27;, &#x27;manaCost&#x27;: &#x27;{2}{W}&#x27;, &#x27;subtypes&#x27;: [&#x27;Human&#x27;, &#x27;Knight&#x27;], &#x27;imageName&#x27;: &#x27;benalish knight&#x27;, &#x27;mciNumber&#x27;: &#x27;11&#x27;, &#x27;toughness&#x27;: &#x27;2&#x27;, &#x27;multiverseid&#x27;: 136279, &#x27;colorIdentity&#x27;: [&#x27;W&#x27;]}</td>\n",
       "    </tr>\n",
       "    <tr>\n",
       "        <td>10E</td>\n",
       "        <td>{&#x27;id&#x27;: &#x27;e8b8dea65daf4e9070cce5de62bdbea0bf36d47c&#x27;, &#x27;cmc&#x27;: 4, &#x27;name&#x27;: &#x27;Cho-Manno, Revolutionary&#x27;, &#x27;text&#x27;: &#x27;Prevent all damage that would be dealt to Cho-Manno, Revolutionary.&#x27;, &#x27;type&#x27;: &#x27;Legendary Creature — Human Rebel&#x27;, &#x27;power&#x27;: &#x27;2&#x27;, &#x27;types&#x27;: [&#x27;Creature&#x27;], &#x27;artist&#x27;: &#x27;Steven Belledin&#x27;, &#x27;colors&#x27;: [&#x27;White&#x27;], &#x27;flavor&#x27;: &#x27;&quot;Mercadia\\&#x27;s masks can no longer hide the truth. Our day has come at last.&quot;&#x27;, &#x27;layout&#x27;: &#x27;normal&#x27;, &#x27;number&#x27;: &#x27;12&#x27;, &#x27;rarity&#x27;: &#x27;Rare&#x27;, &#x27;manaCost&#x27;: &#x27;{2}{W}{W}&#x27;, &#x27;subtypes&#x27;: [&#x27;Human&#x27;, &#x27;Rebel&#x27;], &#x27;imageName&#x27;: &#x27;cho-manno, revolutionary&#x27;, &#x27;mciNumber&#x27;: &#x27;12&#x27;, &#x27;toughness&#x27;: &#x27;2&#x27;, &#x27;supertypes&#x27;: [&#x27;Legendary&#x27;], &#x27;multiverseid&#x27;: 130554, &#x27;colorIdentity&#x27;: [&#x27;W&#x27;]}</td>\n",
       "    </tr>\n",
       "    <tr>\n",
       "        <td>10E</td>\n",
       "        <td>{&#x27;id&#x27;: &#x27;80a6b907fc380ed97615e8abc0fe6071c4ceef67&#x27;, &#x27;cmc&#x27;: 3, &#x27;name&#x27;: &#x27;Field Marshal&#x27;, &#x27;text&#x27;: &#x27;Other Soldier creatures get +1/+1 and have first strike. (They deal combat damage before creatures without first strike.)&#x27;, &#x27;type&#x27;: &#x27;Creature — Human Soldier&#x27;, &#x27;power&#x27;: &#x27;2&#x27;, &#x27;types&#x27;: [&#x27;Creature&#x27;], &#x27;artist&#x27;: &#x27;Stephen Tappin&#x27;, &#x27;colors&#x27;: [&#x27;White&#x27;], &#x27;flavor&#x27;: &#x27;He is the only one who sees the patterns in the overlapping maps and conflicting reports.&#x27;, &#x27;layout&#x27;: &#x27;normal&#x27;, &#x27;number&#x27;: &#x27;15&#x27;, &#x27;rarity&#x27;: &#x27;Rare&#x27;, &#x27;manaCost&#x27;: &#x27;{1}{W}{W}&#x27;, &#x27;subtypes&#x27;: [&#x27;Human&#x27;, &#x27;Soldier&#x27;], &#x27;imageName&#x27;: &#x27;field marshal&#x27;, &#x27;mciNumber&#x27;: &#x27;15&#x27;, &#x27;toughness&#x27;: &#x27;2&#x27;, &#x27;multiverseid&#x27;: 135258, &#x27;colorIdentity&#x27;: [&#x27;W&#x27;]}</td>\n",
       "    </tr>\n",
       "    <tr>\n",
       "        <td>10E</td>\n",
       "        <td>{&#x27;id&#x27;: &#x27;7879b835a2c3d6516515d03bd3a3894dceee1812&#x27;, &#x27;cmc&#x27;: 1, &#x27;name&#x27;: &#x27;Honor Guard&#x27;, &#x27;text&#x27;: &#x27;{W}: Honor Guard gets +0/+1 until end of turn.&#x27;, &#x27;type&#x27;: &#x27;Creature — Human Soldier&#x27;, &#x27;power&#x27;: &#x27;1&#x27;, &#x27;types&#x27;: [&#x27;Creature&#x27;], &#x27;artist&#x27;: &#x27;Dan Dos Santos&#x27;, &#x27;colors&#x27;: [&#x27;White&#x27;], &#x27;flavor&#x27;: &#x27;The strength of one. The courage of ten.&#x27;, &#x27;layout&#x27;: &#x27;normal&#x27;, &#x27;number&#x27;: &#x27;23&#x27;, &#x27;rarity&#x27;: &#x27;Common&#x27;, &#x27;manaCost&#x27;: &#x27;{W}&#x27;, &#x27;subtypes&#x27;: [&#x27;Human&#x27;, &#x27;Soldier&#x27;], &#x27;imageName&#x27;: &#x27;honor guard&#x27;, &#x27;mciNumber&#x27;: &#x27;23&#x27;, &#x27;toughness&#x27;: &#x27;1&#x27;, &#x27;multiverseid&#x27;: 129595, &#x27;colorIdentity&#x27;: [&#x27;W&#x27;]}</td>\n",
       "    </tr>\n",
       "    <tr>\n",
       "        <td>10E</td>\n",
       "        <td>{&#x27;id&#x27;: &#x27;55932565b6905650e67e784b7cf0df63990e9851&#x27;, &#x27;cmc&#x27;: 1, &#x27;name&#x27;: &#x27;Icatian Priest&#x27;, &#x27;text&#x27;: &#x27;{1}{W}{W}: Target creature gets +1/+1 until end of turn.&#x27;, &#x27;type&#x27;: &#x27;Creature — Human Cleric&#x27;, &#x27;power&#x27;: &#x27;1&#x27;, &#x27;types&#x27;: [&#x27;Creature&#x27;], &#x27;artist&#x27;: &#x27;Stephen Tappin&#x27;, &#x27;colors&#x27;: [&#x27;White&#x27;], &#x27;flavor&#x27;: &quot;Grelden knelt and felt the cool, dry hand of the priest on his brow. Hours later, when his wits returned, he was covered in his enemies&#x27; blood on the field of victory.&quot;, &#x27;layout&#x27;: &#x27;normal&#x27;, &#x27;number&#x27;: &#x27;24&#x27;, &#x27;rarity&#x27;: &#x27;Uncommon&#x27;, &#x27;manaCost&#x27;: &#x27;{W}&#x27;, &#x27;subtypes&#x27;: [&#x27;Human&#x27;, &#x27;Cleric&#x27;], &#x27;imageName&#x27;: &#x27;icatian priest&#x27;, &#x27;mciNumber&#x27;: &#x27;24&#x27;, &#x27;toughness&#x27;: &#x27;1&#x27;, &#x27;multiverseid&#x27;: 132123, &#x27;colorIdentity&#x27;: [&#x27;W&#x27;]}</td>\n",
       "    </tr>\n",
       "    <tr>\n",
       "        <td>10E</td>\n",
       "        <td>{&#x27;id&#x27;: &#x27;bc1e197c295bc12cc1b392a11b94782f1396b263&#x27;, &#x27;cmc&#x27;: 5, &#x27;name&#x27;: &#x27;Kjeldoran Royal Guard&#x27;, &#x27;text&#x27;: &#x27;{T}: All combat damage that would be dealt to you by unblocked creatures this turn is dealt to Kjeldoran Royal Guard instead.&#x27;, &#x27;type&#x27;: &#x27;Creature — Human Soldier&#x27;, &#x27;power&#x27;: &#x27;2&#x27;, &#x27;types&#x27;: [&#x27;Creature&#x27;], &#x27;artist&#x27;: &#x27;Carl Critchlow&#x27;, &#x27;colors&#x27;: [&#x27;White&#x27;], &#x27;flavor&#x27;: &quot;Upon the frozen tundra stand the Kjeldoran Royal Guard, pikes raised, with the king&#x27;s oath upon their lips.&quot;, &#x27;layout&#x27;: &#x27;normal&#x27;, &#x27;number&#x27;: &#x27;25&#x27;, &#x27;rarity&#x27;: &#x27;Rare&#x27;, &#x27;manaCost&#x27;: &#x27;{3}{W}{W}&#x27;, &#x27;subtypes&#x27;: [&#x27;Human&#x27;, &#x27;Soldier&#x27;], &#x27;imageName&#x27;: &#x27;kjeldoran royal guard&#x27;, &#x27;mciNumber&#x27;: &#x27;25&#x27;, &#x27;toughness&#x27;: &#x27;5&#x27;, &#x27;multiverseid&#x27;: 130551, &#x27;colorIdentity&#x27;: [&#x27;W&#x27;]}</td>\n",
       "    </tr>\n",
       "    <tr>\n",
       "        <td>10E</td>\n",
       "        <td>{&#x27;id&#x27;: &#x27;e25120395df829af067675f1582ae946543094e2&#x27;, &#x27;cmc&#x27;: 1, &#x27;name&#x27;: &#x27;Loyal Sentry&#x27;, &#x27;text&#x27;: &#x27;When Loyal Sentry blocks a creature, destroy that creature and Loyal Sentry.&#x27;, &#x27;type&#x27;: &#x27;Creature — Human Soldier&#x27;, &#x27;power&#x27;: &#x27;1&#x27;, &#x27;types&#x27;: [&#x27;Creature&#x27;], &#x27;artist&#x27;: &#x27;Michael Sutfin&#x27;, &#x27;colors&#x27;: [&#x27;White&#x27;], &#x27;flavor&#x27;: &#x27;&quot;My cause is simple: To stop you, at any cost, from ever seeing the inside of this keep.&quot;&#x27;, &#x27;layout&#x27;: &#x27;normal&#x27;, &#x27;number&#x27;: &#x27;27&#x27;, &#x27;rarity&#x27;: &#x27;Rare&#x27;, &#x27;manaCost&#x27;: &#x27;{W}&#x27;, &#x27;subtypes&#x27;: [&#x27;Human&#x27;, &#x27;Soldier&#x27;], &#x27;imageName&#x27;: &#x27;loyal sentry&#x27;, &#x27;mciNumber&#x27;: &#x27;27&#x27;, &#x27;toughness&#x27;: &#x27;1&#x27;, &#x27;multiverseid&#x27;: 129798, &#x27;colorIdentity&#x27;: [&#x27;W&#x27;]}</td>\n",
       "    </tr>\n",
       "    <tr>\n",
       "        <td>10E</td>\n",
       "        <td>{&#x27;id&#x27;: &#x27;f0bd8f9ffd23760499a421ca4cd2f211130542b8&#x27;, &#x27;cmc&#x27;: 3, &#x27;name&#x27;: &#x27;Nomad Mythmaker&#x27;, &#x27;text&#x27;: &#x27;{W}, {T}: Put target Aura card from a graveyard onto the battlefield under your control attached to a creature you control.&#x27;, &#x27;type&#x27;: &#x27;Creature — Human Nomad Cleric&#x27;, &#x27;power&#x27;: &#x27;2&#x27;, &#x27;types&#x27;: [&#x27;Creature&#x27;], &#x27;artist&#x27;: &#x27;Darrell Riche&#x27;, &#x27;colors&#x27;: [&#x27;White&#x27;], &#x27;flavor&#x27;: &#x27;On the wild steppes, history vanishes in the dust. Only the mythmakers remain to say what was, and is, and will be.&#x27;, &#x27;layout&#x27;: &#x27;normal&#x27;, &#x27;number&#x27;: &#x27;30&#x27;, &#x27;rarity&#x27;: &#x27;Rare&#x27;, &#x27;manaCost&#x27;: &#x27;{2}{W}&#x27;, &#x27;subtypes&#x27;: [&#x27;Human&#x27;, &#x27;Nomad&#x27;, &#x27;Cleric&#x27;], &#x27;imageName&#x27;: &#x27;nomad mythmaker&#x27;, &#x27;mciNumber&#x27;: &#x27;30&#x27;, &#x27;toughness&#x27;: &#x27;2&#x27;, &#x27;multiverseid&#x27;: 130547, &#x27;colorIdentity&#x27;: [&#x27;W&#x27;]}</td>\n",
       "    </tr>\n",
       "</table>"
      ],
      "text/plain": [
       "[('10E', {'id': 'ab1ab474019e4e76c66e2b524d354cb7c3212616', 'cmc': 7, 'name': \"Ancestor's Chosen\", 'text': \"First strike (This creature deals combat damage bef ... (386 characters truncated) ... 'subtypes': ['Human', 'Cleric'], 'imageName': \"ancestor's chosen\", 'mciNumber': '1', 'toughness': '4', 'multiverseid': 130550, 'colorIdentity': ['W']}),\n",
       " ('10E', {'id': 'd3488c0a916bd922856473155a8b49ec23fc2217', 'cmc': 4, 'name': 'Ballista Squad', 'text': '{X}{W}, {T}: Ballista Squad deals X damage to target a ... (297 characters truncated) ... }', 'subtypes': ['Human', 'Rebel'], 'imageName': 'ballista squad', 'mciNumber': '8', 'toughness': '2', 'multiverseid': 129477, 'colorIdentity': ['W']}),\n",
       " ('10E', {'id': '29c46fca29e5de01dba3bbf05393325bc9132735', 'cmc': 3, 'name': 'Benalish Knight', 'text': 'Flash (You may cast this spell any time you could cas ... (402 characters truncated) ...  'subtypes': ['Human', 'Knight'], 'imageName': 'benalish knight', 'mciNumber': '11', 'toughness': '2', 'multiverseid': 136279, 'colorIdentity': ['W']}),\n",
       " ('10E', {'id': 'e8b8dea65daf4e9070cce5de62bdbea0bf36d47c', 'cmc': 4, 'name': 'Cho-Manno, Revolutionary', 'text': 'Prevent all damage that would be dealt to Ch ... (361 characters truncated) ... geName': 'cho-manno, revolutionary', 'mciNumber': '12', 'toughness': '2', 'supertypes': ['Legendary'], 'multiverseid': 130554, 'colorIdentity': ['W']}),\n",
       " ('10E', {'id': '80a6b907fc380ed97615e8abc0fe6071c4ceef67', 'cmc': 3, 'name': 'Field Marshal', 'text': 'Other Soldier creatures get +1/+1 and have first strike ... (371 characters truncated) ... , 'subtypes': ['Human', 'Soldier'], 'imageName': 'field marshal', 'mciNumber': '15', 'toughness': '2', 'multiverseid': 135258, 'colorIdentity': ['W']}),\n",
       " ('10E', {'id': '7879b835a2c3d6516515d03bd3a3894dceee1812', 'cmc': 1, 'name': 'Honor Guard', 'text': '{W}: Honor Guard gets +0/+1 until end of turn.', 'type':  ... (239 characters truncated) ... }', 'subtypes': ['Human', 'Soldier'], 'imageName': 'honor guard', 'mciNumber': '23', 'toughness': '1', 'multiverseid': 129595, 'colorIdentity': ['W']}),\n",
       " ('10E', {'id': '55932565b6905650e67e784b7cf0df63990e9851', 'cmc': 1, 'name': 'Icatian Priest', 'text': '{1}{W}{W}: Target creature gets +1/+1 until end of tur ... (382 characters truncated) ... , 'subtypes': ['Human', 'Cleric'], 'imageName': 'icatian priest', 'mciNumber': '24', 'toughness': '1', 'multiverseid': 132123, 'colorIdentity': ['W']}),\n",
       " ('10E', {'id': 'bc1e197c295bc12cc1b392a11b94782f1396b263', 'cmc': 5, 'name': 'Kjeldoran Royal Guard', 'text': '{T}: All combat damage that would be dealt to y ... (409 characters truncated) ... pes': ['Human', 'Soldier'], 'imageName': 'kjeldoran royal guard', 'mciNumber': '25', 'toughness': '5', 'multiverseid': 130551, 'colorIdentity': ['W']}),\n",
       " ('10E', {'id': 'e25120395df829af067675f1582ae946543094e2', 'cmc': 1, 'name': 'Loyal Sentry', 'text': 'When Loyal Sentry blocks a creature, destroy that creatu ... (318 characters truncated) ... ', 'subtypes': ['Human', 'Soldier'], 'imageName': 'loyal sentry', 'mciNumber': '27', 'toughness': '1', 'multiverseid': 129798, 'colorIdentity': ['W']}),\n",
       " ('10E', {'id': 'f0bd8f9ffd23760499a421ca4cd2f211130542b8', 'cmc': 3, 'name': 'Nomad Mythmaker', 'text': '{W}, {T}: Put target Aura card from a graveyard onto  ... (412 characters truncated) ... s': ['Human', 'Nomad', 'Cleric'], 'imageName': 'nomad mythmaker', 'mciNumber': '30', 'toughness': '2', 'multiverseid': 130547, 'colorIdentity': ['W']})]"
      ]
     },
     "execution_count": 138,
     "metadata": {},
     "output_type": "execute_result"
    }
   ],
   "source": [
    "%sql SELECT * from cards WHERE data @> '{\"subtypes\":[\"Human\"]}' LIMIT 10;"
   ]
  },
  {
   "cell_type": "markdown",
   "metadata": {},
   "source": [
    "> C. Group all the cards based on the colour. Aggregate them by counting the number of cards per colour."
   ]
  },
  {
   "cell_type": "code",
   "execution_count": 159,
   "metadata": {
    "collapsed": true
   },
   "outputs": [
    {
     "name": "stdout",
     "output_type": "stream",
     "text": [
      "32 rows affected.\n"
     ]
    },
    {
     "data": {
      "text/html": [
       "<table>\n",
       "    <tr>\n",
       "        <th>color</th>\n",
       "    </tr>\n",
       "    <tr>\n",
       "        <td>None</td>\n",
       "    </tr>\n",
       "    <tr>\n",
       "        <td>[&quot;Blue&quot;, &quot;Black&quot;]</td>\n",
       "    </tr>\n",
       "    <tr>\n",
       "        <td>[&quot;White&quot;, &quot;Blue&quot;, &quot;Black&quot;, &quot;Red&quot;, &quot;Green&quot;]</td>\n",
       "    </tr>\n",
       "    <tr>\n",
       "        <td>[&quot;Red&quot;]</td>\n",
       "    </tr>\n",
       "    <tr>\n",
       "        <td>[&quot;White&quot;, &quot;Black&quot;, &quot;Red&quot;]</td>\n",
       "    </tr>\n",
       "    <tr>\n",
       "        <td>[&quot;Blue&quot;, &quot;Red&quot;, &quot;Green&quot;]</td>\n",
       "    </tr>\n",
       "    <tr>\n",
       "        <td>[&quot;White&quot;, &quot;Black&quot;, &quot;Red&quot;, &quot;Green&quot;]</td>\n",
       "    </tr>\n",
       "    <tr>\n",
       "        <td>[&quot;Blue&quot;, &quot;Red&quot;]</td>\n",
       "    </tr>\n",
       "    <tr>\n",
       "        <td>[&quot;Blue&quot;, &quot;Black&quot;, &quot;Green&quot;]</td>\n",
       "    </tr>\n",
       "    <tr>\n",
       "        <td>[&quot;White&quot;, &quot;Red&quot;]</td>\n",
       "    </tr>\n",
       "    <tr>\n",
       "        <td>[&quot;Blue&quot;]</td>\n",
       "    </tr>\n",
       "    <tr>\n",
       "        <td>[&quot;Black&quot;, &quot;Green&quot;]</td>\n",
       "    </tr>\n",
       "    <tr>\n",
       "        <td>[&quot;White&quot;, &quot;Blue&quot;, &quot;Red&quot;]</td>\n",
       "    </tr>\n",
       "    <tr>\n",
       "        <td>[&quot;White&quot;, &quot;Blue&quot;, &quot;Red&quot;, &quot;Green&quot;]</td>\n",
       "    </tr>\n",
       "    <tr>\n",
       "        <td>[&quot;Black&quot;, &quot;Red&quot;, &quot;Green&quot;]</td>\n",
       "    </tr>\n",
       "    <tr>\n",
       "        <td>[&quot;Blue&quot;, &quot;Black&quot;, &quot;Red&quot;, &quot;Green&quot;]</td>\n",
       "    </tr>\n",
       "    <tr>\n",
       "        <td>[&quot;White&quot;, &quot;Blue&quot;, &quot;Black&quot;]</td>\n",
       "    </tr>\n",
       "    <tr>\n",
       "        <td>[&quot;White&quot;, &quot;Green&quot;]</td>\n",
       "    </tr>\n",
       "    <tr>\n",
       "        <td>[&quot;Green&quot;]</td>\n",
       "    </tr>\n",
       "    <tr>\n",
       "        <td>[&quot;White&quot;, &quot;Blue&quot;, &quot;Black&quot;, &quot;Red&quot;]</td>\n",
       "    </tr>\n",
       "    <tr>\n",
       "        <td>[&quot;Blue&quot;, &quot;Green&quot;]</td>\n",
       "    </tr>\n",
       "    <tr>\n",
       "        <td>[&quot;White&quot;, &quot;Red&quot;, &quot;Green&quot;]</td>\n",
       "    </tr>\n",
       "    <tr>\n",
       "        <td>[&quot;Blue&quot;, &quot;Black&quot;, &quot;Red&quot;]</td>\n",
       "    </tr>\n",
       "    <tr>\n",
       "        <td>[&quot;Black&quot;, &quot;Red&quot;]</td>\n",
       "    </tr>\n",
       "    <tr>\n",
       "        <td>[&quot;White&quot;, &quot;Blue&quot;, &quot;Black&quot;, &quot;Green&quot;]</td>\n",
       "    </tr>\n",
       "    <tr>\n",
       "        <td>[&quot;Red&quot;, &quot;Green&quot;]</td>\n",
       "    </tr>\n",
       "    <tr>\n",
       "        <td>[&quot;White&quot;]</td>\n",
       "    </tr>\n",
       "    <tr>\n",
       "        <td>[&quot;White&quot;, &quot;Black&quot;]</td>\n",
       "    </tr>\n",
       "    <tr>\n",
       "        <td>[&quot;White&quot;, &quot;Blue&quot;]</td>\n",
       "    </tr>\n",
       "    <tr>\n",
       "        <td>[&quot;Black&quot;]</td>\n",
       "    </tr>\n",
       "    <tr>\n",
       "        <td>[&quot;White&quot;, &quot;Black&quot;, &quot;Green&quot;]</td>\n",
       "    </tr>\n",
       "    <tr>\n",
       "        <td>[&quot;White&quot;, &quot;Blue&quot;, &quot;Green&quot;]</td>\n",
       "    </tr>\n",
       "</table>"
      ],
      "text/plain": [
       "[(None,),\n",
       " ('[\"Blue\", \"Black\"]',),\n",
       " ('[\"White\", \"Blue\", \"Black\", \"Red\", \"Green\"]',),\n",
       " ('[\"Red\"]',),\n",
       " ('[\"White\", \"Black\", \"Red\"]',),\n",
       " ('[\"Blue\", \"Red\", \"Green\"]',),\n",
       " ('[\"White\", \"Black\", \"Red\", \"Green\"]',),\n",
       " ('[\"Blue\", \"Red\"]',),\n",
       " ('[\"Blue\", \"Black\", \"Green\"]',),\n",
       " ('[\"White\", \"Red\"]',),\n",
       " ('[\"Blue\"]',),\n",
       " ('[\"Black\", \"Green\"]',),\n",
       " ('[\"White\", \"Blue\", \"Red\"]',),\n",
       " ('[\"White\", \"Blue\", \"Red\", \"Green\"]',),\n",
       " ('[\"Black\", \"Red\", \"Green\"]',),\n",
       " ('[\"Blue\", \"Black\", \"Red\", \"Green\"]',),\n",
       " ('[\"White\", \"Blue\", \"Black\"]',),\n",
       " ('[\"White\", \"Green\"]',),\n",
       " ('[\"Green\"]',),\n",
       " ('[\"White\", \"Blue\", \"Black\", \"Red\"]',),\n",
       " ('[\"Blue\", \"Green\"]',),\n",
       " ('[\"White\", \"Red\", \"Green\"]',),\n",
       " ('[\"Blue\", \"Black\", \"Red\"]',),\n",
       " ('[\"Black\", \"Red\"]',),\n",
       " ('[\"White\", \"Blue\", \"Black\", \"Green\"]',),\n",
       " ('[\"Red\", \"Green\"]',),\n",
       " ('[\"White\"]',),\n",
       " ('[\"White\", \"Black\"]',),\n",
       " ('[\"White\", \"Blue\"]',),\n",
       " ('[\"Black\"]',),\n",
       " ('[\"White\", \"Black\", \"Green\"]',),\n",
       " ('[\"White\", \"Blue\", \"Green\"]',)]"
      ]
     },
     "execution_count": 159,
     "metadata": {},
     "output_type": "execute_result"
    }
   ],
   "source": [
    "%sql SELECT DISTINCT(data->>'colors') as color from cards;"
   ]
  },
  {
   "cell_type": "code",
   "execution_count": 178,
   "metadata": {},
   "outputs": [
    {
     "name": "stdout",
     "output_type": "stream",
     "text": [
      "Done.\n"
     ]
    },
    {
     "data": {
      "text/plain": [
       "[]"
      ]
     },
     "execution_count": 178,
     "metadata": {},
     "output_type": "execute_result"
    }
   ],
   "source": [
    "%%sql\n",
    "CREATE VIEW card_color as\n",
    "SELECT data->>'colors' as color from cards;"
   ]
  },
  {
   "cell_type": "code",
   "execution_count": 179,
   "metadata": {},
   "outputs": [
    {
     "name": "stdout",
     "output_type": "stream",
     "text": [
      "Done.\n"
     ]
    },
    {
     "data": {
      "text/plain": [
       "[]"
      ]
     },
     "execution_count": 179,
     "metadata": {},
     "output_type": "execute_result"
    }
   ],
   "source": [
    "%%sql\n",
    "CREATE VIEW card_count as\n",
    "SELECT color, count(*) as count from card_color\n",
    "GROUP BY color\n",
    "ORDER BY count DESC;"
   ]
  },
  {
   "cell_type": "code",
   "execution_count": 182,
   "metadata": {
    "collapsed": true
   },
   "outputs": [
    {
     "name": "stdout",
     "output_type": "stream",
     "text": [
      "32 rows affected.\n"
     ]
    },
    {
     "data": {
      "text/html": [
       "<table>\n",
       "    <tr>\n",
       "        <th>color</th>\n",
       "        <th>count</th>\n",
       "    </tr>\n",
       "    <tr>\n",
       "        <td>None</td>\n",
       "        <td>7391</td>\n",
       "    </tr>\n",
       "    <tr>\n",
       "        <td>[&quot;Green&quot;]</td>\n",
       "        <td>4977</td>\n",
       "    </tr>\n",
       "    <tr>\n",
       "        <td>[&quot;Black&quot;]</td>\n",
       "        <td>4877</td>\n",
       "    </tr>\n",
       "    <tr>\n",
       "        <td>[&quot;Red&quot;]</td>\n",
       "        <td>4858</td>\n",
       "    </tr>\n",
       "    <tr>\n",
       "        <td>[&quot;White&quot;]</td>\n",
       "        <td>4755</td>\n",
       "    </tr>\n",
       "    <tr>\n",
       "        <td>[&quot;Blue&quot;]</td>\n",
       "        <td>4680</td>\n",
       "    </tr>\n",
       "    <tr>\n",
       "        <td>[&quot;White&quot;, &quot;Green&quot;]</td>\n",
       "        <td>276</td>\n",
       "    </tr>\n",
       "    <tr>\n",
       "        <td>[&quot;Red&quot;, &quot;Green&quot;]</td>\n",
       "        <td>273</td>\n",
       "    </tr>\n",
       "    <tr>\n",
       "        <td>[&quot;Blue&quot;, &quot;Black&quot;]</td>\n",
       "        <td>260</td>\n",
       "    </tr>\n",
       "    <tr>\n",
       "        <td>[&quot;Black&quot;, &quot;Red&quot;]</td>\n",
       "        <td>258</td>\n",
       "    </tr>\n",
       "    <tr>\n",
       "        <td>[&quot;White&quot;, &quot;Blue&quot;]</td>\n",
       "        <td>245</td>\n",
       "    </tr>\n",
       "    <tr>\n",
       "        <td>[&quot;Black&quot;, &quot;Green&quot;]</td>\n",
       "        <td>185</td>\n",
       "    </tr>\n",
       "    <tr>\n",
       "        <td>[&quot;Blue&quot;, &quot;Red&quot;]</td>\n",
       "        <td>182</td>\n",
       "    </tr>\n",
       "    <tr>\n",
       "        <td>[&quot;White&quot;, &quot;Red&quot;]</td>\n",
       "        <td>178</td>\n",
       "    </tr>\n",
       "    <tr>\n",
       "        <td>[&quot;White&quot;, &quot;Black&quot;]</td>\n",
       "        <td>174</td>\n",
       "    </tr>\n",
       "    <tr>\n",
       "        <td>[&quot;Blue&quot;, &quot;Green&quot;]</td>\n",
       "        <td>169</td>\n",
       "    </tr>\n",
       "    <tr>\n",
       "        <td>[&quot;Blue&quot;, &quot;Black&quot;, &quot;Red&quot;]</td>\n",
       "        <td>73</td>\n",
       "    </tr>\n",
       "    <tr>\n",
       "        <td>[&quot;White&quot;, &quot;Blue&quot;, &quot;Black&quot;]</td>\n",
       "        <td>57</td>\n",
       "    </tr>\n",
       "    <tr>\n",
       "        <td>[&quot;White&quot;, &quot;Red&quot;, &quot;Green&quot;]</td>\n",
       "        <td>54</td>\n",
       "    </tr>\n",
       "    <tr>\n",
       "        <td>[&quot;White&quot;, &quot;Blue&quot;, &quot;Green&quot;]</td>\n",
       "        <td>53</td>\n",
       "    </tr>\n",
       "    <tr>\n",
       "        <td>[&quot;Black&quot;, &quot;Red&quot;, &quot;Green&quot;]</td>\n",
       "        <td>52</td>\n",
       "    </tr>\n",
       "    <tr>\n",
       "        <td>[&quot;White&quot;, &quot;Blue&quot;, &quot;Black&quot;, &quot;Red&quot;, &quot;Green&quot;]</td>\n",
       "        <td>37</td>\n",
       "    </tr>\n",
       "    <tr>\n",
       "        <td>[&quot;White&quot;, &quot;Black&quot;, &quot;Red&quot;]</td>\n",
       "        <td>33</td>\n",
       "    </tr>\n",
       "    <tr>\n",
       "        <td>[&quot;White&quot;, &quot;Black&quot;, &quot;Green&quot;]</td>\n",
       "        <td>28</td>\n",
       "    </tr>\n",
       "    <tr>\n",
       "        <td>[&quot;Blue&quot;, &quot;Red&quot;, &quot;Green&quot;]</td>\n",
       "        <td>25</td>\n",
       "    </tr>\n",
       "    <tr>\n",
       "        <td>[&quot;Blue&quot;, &quot;Black&quot;, &quot;Green&quot;]</td>\n",
       "        <td>24</td>\n",
       "    </tr>\n",
       "    <tr>\n",
       "        <td>[&quot;White&quot;, &quot;Blue&quot;, &quot;Red&quot;]</td>\n",
       "        <td>22</td>\n",
       "    </tr>\n",
       "    <tr>\n",
       "        <td>[&quot;Blue&quot;, &quot;Black&quot;, &quot;Red&quot;, &quot;Green&quot;]</td>\n",
       "        <td>3</td>\n",
       "    </tr>\n",
       "    <tr>\n",
       "        <td>[&quot;White&quot;, &quot;Black&quot;, &quot;Red&quot;, &quot;Green&quot;]</td>\n",
       "        <td>2</td>\n",
       "    </tr>\n",
       "    <tr>\n",
       "        <td>[&quot;White&quot;, &quot;Blue&quot;, &quot;Black&quot;, &quot;Green&quot;]</td>\n",
       "        <td>2</td>\n",
       "    </tr>\n",
       "    <tr>\n",
       "        <td>[&quot;White&quot;, &quot;Blue&quot;, &quot;Red&quot;, &quot;Green&quot;]</td>\n",
       "        <td>2</td>\n",
       "    </tr>\n",
       "    <tr>\n",
       "        <td>[&quot;White&quot;, &quot;Blue&quot;, &quot;Black&quot;, &quot;Red&quot;]</td>\n",
       "        <td>2</td>\n",
       "    </tr>\n",
       "</table>"
      ],
      "text/plain": [
       "[(None, 7391),\n",
       " ('[\"Green\"]', 4977),\n",
       " ('[\"Black\"]', 4877),\n",
       " ('[\"Red\"]', 4858),\n",
       " ('[\"White\"]', 4755),\n",
       " ('[\"Blue\"]', 4680),\n",
       " ('[\"White\", \"Green\"]', 276),\n",
       " ('[\"Red\", \"Green\"]', 273),\n",
       " ('[\"Blue\", \"Black\"]', 260),\n",
       " ('[\"Black\", \"Red\"]', 258),\n",
       " ('[\"White\", \"Blue\"]', 245),\n",
       " ('[\"Black\", \"Green\"]', 185),\n",
       " ('[\"Blue\", \"Red\"]', 182),\n",
       " ('[\"White\", \"Red\"]', 178),\n",
       " ('[\"White\", \"Black\"]', 174),\n",
       " ('[\"Blue\", \"Green\"]', 169),\n",
       " ('[\"Blue\", \"Black\", \"Red\"]', 73),\n",
       " ('[\"White\", \"Blue\", \"Black\"]', 57),\n",
       " ('[\"White\", \"Red\", \"Green\"]', 54),\n",
       " ('[\"White\", \"Blue\", \"Green\"]', 53),\n",
       " ('[\"Black\", \"Red\", \"Green\"]', 52),\n",
       " ('[\"White\", \"Blue\", \"Black\", \"Red\", \"Green\"]', 37),\n",
       " ('[\"White\", \"Black\", \"Red\"]', 33),\n",
       " ('[\"White\", \"Black\", \"Green\"]', 28),\n",
       " ('[\"Blue\", \"Red\", \"Green\"]', 25),\n",
       " ('[\"Blue\", \"Black\", \"Green\"]', 24),\n",
       " ('[\"White\", \"Blue\", \"Red\"]', 22),\n",
       " ('[\"Blue\", \"Black\", \"Red\", \"Green\"]', 3),\n",
       " ('[\"White\", \"Black\", \"Red\", \"Green\"]', 2),\n",
       " ('[\"White\", \"Blue\", \"Black\", \"Green\"]', 2),\n",
       " ('[\"White\", \"Blue\", \"Red\", \"Green\"]', 2),\n",
       " ('[\"White\", \"Blue\", \"Black\", \"Red\"]', 2)]"
      ]
     },
     "execution_count": 182,
     "metadata": {},
     "output_type": "execute_result"
    }
   ],
   "source": [
    "%%sql\n",
    "SELECT color, count(*) as count from card_color\n",
    "GROUP BY color\n",
    "ORDER BY count DESC;"
   ]
  },
  {
   "cell_type": "code",
   "execution_count": 184,
   "metadata": {},
   "outputs": [
    {
     "name": "stdout",
     "output_type": "stream",
     "text": [
      "32 rows affected.\n"
     ]
    }
   ],
   "source": [
    "results = %sql SELECT * from card_count;"
   ]
  },
  {
   "cell_type": "code",
   "execution_count": 185,
   "metadata": {},
   "outputs": [
    {
     "data": {
      "image/png": "[encoded data removed]",
      "text/plain": [
       "<matplotlib.figure.Figure at 0x7fde203173c8>"
      ]
     },
     "metadata": {},
     "output_type": "display_data"
    }
   ],
   "source": [
    "results.bar();"
   ]
  },
  {
   "cell_type": "code",
   "execution_count": 197,
   "metadata": {},
   "outputs": [],
   "source": [
    "df2 = pd.DataFrame(results, columns=['a', 'b'])"
   ]
  },
  {
   "cell_type": "code",
   "execution_count": 200,
   "metadata": {},
   "outputs": [
    {
     "data": {
      "text/plain": [
       "<matplotlib.figure.Figure at 0x7fde1f981e80>"
      ]
     },
     "metadata": {},
     "output_type": "display_data"
    }
   ],
   "source": [
    "plt.figure();"
   ]
  },
  {
   "cell_type": "code",
   "execution_count": 203,
   "metadata": {},
   "outputs": [
    {
     "data": {
      "text/plain": [
       "<matplotlib.axes._subplots.AxesSubplot at 0x7fde1f8403c8>"
      ]
     },
     "execution_count": 203,
     "metadata": {},
     "output_type": "execute_result"
    },
    {
     "data": {
      "image/png": "[encoded data removed]",
      "text/plain": [
       "<matplotlib.figure.Figure at 0x7fde1f747470>"
      ]
     },
     "metadata": {},
     "output_type": "display_data"
    }
   ],
   "source": [
    "df2.plot(kind='bar', alpha=0.5)"
   ]
  }
 ],
 "metadata": {
  "kernelspec": {
   "display_name": "Python 3",
   "language": "python",
   "name": "python3"
  },
  "language_info": {
   "codemirror_mode": {
    "name": "ipython",
    "version": 3
   },
   "file_extension": ".py",
   "mimetype": "text/x-python",
   "name": "python",
   "nbconvert_exporter": "python",
   "pygments_lexer": "ipython3",
   "version": "3.6.3"
  }
 },
 "nbformat": 4,
 "nbformat_minor": 2
}
